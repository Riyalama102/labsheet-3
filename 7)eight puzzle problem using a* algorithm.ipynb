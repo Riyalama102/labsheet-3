{
  "nbformat": 4,
  "nbformat_minor": 0,
  "metadata": {
    "colab": {
      "provenance": [],
      "authorship_tag": "ABX9TyPvvgrQohyfJD2FA6YCCzbJ",
      "include_colab_link": true
    },
    "kernelspec": {
      "name": "python3",
      "display_name": "Python 3"
    },
    "language_info": {
      "name": "python"
    }
  },
  "cells": [
    {
      "cell_type": "markdown",
      "metadata": {
        "id": "view-in-github",
        "colab_type": "text"
      },
      "source": [
        "<a href=\"https://colab.research.google.com/github/Riyalama102/labsheet-3/blob/main/7)eight%20puzzle%20problem%20using%20a*%20algorithm.ipynb\" target=\"_parent\"><img src=\"https://colab.research.google.com/assets/colab-badge.svg\" alt=\"Open In Colab\"/></a>"
      ]
    },
    {
      "cell_type": "code",
      "execution_count": null,
      "metadata": {
        "id": "EoLFF4NFY0YZ"
      },
      "outputs": [],
      "source": [
        "import heapq\n",
        "\n",
        "# Helper function to find the index of the empty tile (0)\n",
        "def find_empty_tile(state):\n",
        "    for i in range(3):\n",
        "        for j in range(3):\n",
        "            if state[i][j] == 0:\n",
        "                return i, j\n",
        "\n",
        "# Helper function to generate the new state after a valid move\n",
        "def generate_new_state(state, move):\n",
        "    new_state = [row[:] for row in state]\n",
        "    i, j = find_empty_tile(state)\n",
        "    di, dj = move\n",
        "    ni, nj = i + di, j + dj\n",
        "\n",
        "    if 0 <= ni < 3 and 0 <= nj < 3:\n",
        "        # Swap the tiles\n",
        "        new_state[i][j], new_state[ni][nj] = new_state[ni][nj], new_state[i][j]\n",
        "        return new_state\n",
        "    return None\n",
        "\n",
        "# Heuristic function: Manhattan Distance\n",
        "def manhattan_distance(state, goal):\n",
        "    distance = 0\n",
        "    for i in range(3):\n",
        "        for j in range(3):\n",
        "            if state[i][j] != 0:\n",
        "                target_i, target_j = divmod(goal.index(state[i][j]), 3)\n",
        "                distance += abs(i - target_i) + abs(j - target_j)\n",
        "    return distance\n",
        "\n",
        "# Print the current state of the puzzle\n",
        "def print_state(state):\n",
        "    for row in state:\n",
        "        print(' '.join(map(str, row)))\n",
        "    print(\"-\" * 10)\n",
        "\n",
        "# A* Algorithm\n",
        "def solve_8_puzzle(start, goal):\n",
        "    # Convert goal state to a flat list for easier comparison\n",
        "    goal_flat = [item for row in goal for item in row]\n",
        "\n",
        "    # Priority queue for A* search\n",
        "    open_set = []\n",
        "    heapq.heappush(open_set, (0, start, []))  # (cost, current_state, path)\n",
        "\n",
        "    visited = set()  # Keep track of visited states\n",
        "\n",
        "    while open_set:\n",
        "        # Pop the state with the lowest cost\n",
        "        _, current_state, path = heapq.heappop(open_set)\n",
        "        current_flat = tuple(item for row in current_state for item in row)\n",
        "\n",
        "        # If the goal is reached, return the path\n",
        "        if current_flat == tuple(goal_flat):\n",
        "            return path, current_state\n",
        "\n",
        "        # Add the current state to visited\n",
        "        visited.add(current_flat)\n",
        "\n",
        "        # Generate neighbors\n",
        "        for move, direction in [((-1, 0), \"Up\"), ((1, 0), \"Down\"), ((0, -1), \"Left\"), ((0, 1), \"Right\")]:\n",
        "            new_state = generate_new_state(current_state, move)\n",
        "            if new_state:\n",
        "                new_flat = tuple(item for row in new_state for item in row)\n",
        "                if new_flat not in visited:\n",
        "                    # Calculate costs: g(n) and h(n)\n",
        "                    g = len(path) + 1\n",
        "                    h = manhattan_distance(new_state, goal_flat)\n",
        "                    f = g + h\n",
        "                    heapq.heappush(open_set, (f, new_state, path + [(new_state, direction)]))\n",
        "\n",
        "    return None, None  # No solution found"
      ]
    }
  ]
}