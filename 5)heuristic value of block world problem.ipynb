{
  "nbformat": 4,
  "nbformat_minor": 0,
  "metadata": {
    "colab": {
      "provenance": [],
      "authorship_tag": "ABX9TyMMrPaD6XFJY4g1NRMrdNvb",
      "include_colab_link": true
    },
    "kernelspec": {
      "name": "python3",
      "display_name": "Python 3"
    },
    "language_info": {
      "name": "python"
    }
  },
  "cells": [
    {
      "cell_type": "markdown",
      "metadata": {
        "id": "view-in-github",
        "colab_type": "text"
      },
      "source": [
        "<a href=\"https://colab.research.google.com/github/Riyalama102/labsheet-3/blob/main/5)heuristic%20value%20of%20block%20world%20problem.ipynb\" target=\"_parent\"><img src=\"https://colab.research.google.com/assets/colab-badge.svg\" alt=\"Open In Colab\"/></a>"
      ]
    },
    {
      "cell_type": "code",
      "execution_count": 5,
      "metadata": {
        "id": "cq_yb9KDXNXO"
      },
      "outputs": [],
      "source": [
        "def calculate_heuristic(start_state, goal_state):\n",
        "    \"\"\"\n",
        "    Calculates the heuristic value of the start state compared to the goal state.\n",
        "\n",
        "    Args:\n",
        "        start_state (list): A list of stacks representing the current state.\n",
        "        goal_state (list): A list of stacks representing the goal state.\n",
        "\n",
        "    Returns:\n",
        "        int: The heuristic value of the state.\n",
        "    \"\"\"\n",
        "    heuristic = 0\n",
        "    for stack_index, goal_stack in enumerate(goal_state):\n",
        "        for i, block in enumerate(goal_stack):\n",
        "            if stack_index < len(start_state) and i < len(start_state[stack_index]):\n",
        "                if start_state[stack_index][i] == block:\n",
        "                    heuristic += 1\n",
        "                else:\n",
        "                    heuristic -= 1\n",
        "            else:\n",
        "                heuristic -= 1\n",
        "    return heuristic"
      ]
    }
  ]
}